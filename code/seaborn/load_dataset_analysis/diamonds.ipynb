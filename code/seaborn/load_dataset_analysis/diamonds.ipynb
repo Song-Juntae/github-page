{
 "cells": [
  {
   "cell_type": "code",
   "execution_count": 1,
   "metadata": {},
   "outputs": [
    {
     "name": "stdout",
     "output_type": "stream",
     "text": [
      "/home/sjt/space/github-page/code/seaborn/load_dataset_analysis\n"
     ]
    }
   ],
   "source": [
    "!pwd"
   ]
  },
  {
   "cell_type": "code",
   "execution_count": null,
   "metadata": {},
   "outputs": [],
   "source": [
    "import pandas as pd\n",
    "import seaborn as sns\n",
    "import matplotlib.pyplot as plt\n",
    "import plotly.express as px\n",
    "\n",
    "%matplotlib inline"
   ]
  },
  {
   "cell_type": "code",
   "execution_count": null,
   "metadata": {},
   "outputs": [],
   "source": [
    "df = sns.load_dataset(\"diamonds\")\n",
    "print(df.shape)\n",
    "df.head()"
   ]
  },
  {
   "attachments": {},
   "cell_type": "markdown",
   "metadata": {},
   "source": [
    "https://ggplot2.tidyverse.org/reference/diamonds.html\n",
    "\n",
    "https://www.diamonds.pro/education/4cs-diamonds/\n",
    "\n",
    "https://www.diamonds.pro/education/diamond-depth-and-table/\n",
    "\n",
    "4C(컷, 컬러, 투명도 및 캐럿)는 다이아몬드의 품질을 결정하는 널리 인정되는 표준 특성입니다. 이러한 특성에 따라 다이아몬드 값을 결정할 수 있습니다. 이 4C 사이의 완벽한 조화를 찾으면 다이아몬드를 찾을 때 아름다움과 가치의 균형을 맞추는 데 도움이 됩니다.\n",
    "\n",
    "다이아몬드의 깊이와 테이블는 외관과 가치에 큰 영향을 미칩니다. 모든 다이아몬드에 대해 \"최고의\" 깊이와 테이블은 없습니다 — 대신 이상적인 깊이와 테이블은 고려 중인 컷에 따라 다릅니다.\n",
    "\n",
    "Format\n",
    "- A data frame with 53940 rows and 10 variables:\n",
    "\n",
    "price\n",
    "- price in US dollars ($326--$18,823)\n",
    "\n",
    "carat\n",
    "- weight of the diamond (0.2--5.01)\n",
    "\n",
    "cut\n",
    "- quality of the cut (Fair, Good, Very Good, Premium, Ideal)\n",
    "\n",
    "color\n",
    "- diamond colour, from D (best) to J (worst)\n",
    "\n",
    "clarity\n",
    "- a measurement of how clear the diamond is (I1 (worst), SI2, SI1, VS2, VS1, VVS2, VVS1, IF (best))\n",
    "\n",
    "x\n",
    "- length in mm (0--10.74)\n",
    "\n",
    "y\n",
    "- width in mm (0--58.9)\n",
    "\n",
    "z\n",
    "- depth in mm (0--31.8)\n",
    "\n",
    "depth\n",
    "- total depth percentage = z / mean(x, y) = 2 * z / (x + y) (43--79)\n",
    "\n",
    "table\n",
    "- width of top of diamond relative to widest point (43--95)\n",
    "\n",
    "다이아몬드 가격(price)에 대해 4C와 Table, Depth의 영향을 분석.\n",
    "다이아몬드 가격에 이상적인 4C와 Table, Depth을 찾아보아요."
   ]
  },
  {
   "cell_type": "code",
   "execution_count": null,
   "metadata": {},
   "outputs": [],
   "source": [
    "df = sns.load_dataset(\"diamonds\")\n",
    "print(df.shape)\n",
    "df.head()"
   ]
  },
  {
   "cell_type": "code",
   "execution_count": null,
   "metadata": {},
   "outputs": [],
   "source": [
    "df.info()"
   ]
  },
  {
   "cell_type": "code",
   "execution_count": null,
   "metadata": {},
   "outputs": [],
   "source": [
    "display(df.describe(),df.describe(include='category'))"
   ]
  },
  {
   "cell_type": "code",
   "execution_count": null,
   "metadata": {},
   "outputs": [],
   "source": [
    "for i in df.describe(include='category').columns:\n",
    "    print(i,' : ',set(df[i]))"
   ]
  },
  {
   "cell_type": "code",
   "execution_count": null,
   "metadata": {},
   "outputs": [],
   "source": [
    "sns.relplot(\n",
    "    data=df,\n",
    "    x=\"carat\", \n",
    "    y=\"price\", \n",
    "    col=\"cut\",\n",
    "    hue=\"color\", \n",
    "    style=\"color\", \n",
    "    size=\"clarity\",\n",
    "    height=10,\n",
    "    aspect=2\n",
    ")"
   ]
  }
 ],
 "metadata": {
  "kernelspec": {
   "display_name": "sjt",
   "language": "python",
   "name": "python3"
  },
  "language_info": {
   "codemirror_mode": {
    "name": "ipython",
    "version": 3
   },
   "file_extension": ".py",
   "mimetype": "text/x-python",
   "name": "python",
   "nbconvert_exporter": "python",
   "pygments_lexer": "ipython3",
   "version": "3.11.0"
  },
  "orig_nbformat": 4,
  "vscode": {
   "interpreter": {
    "hash": "595d41ae8ea0693bdacd4ef830b3057a2ade578cbc52bfb590c757179c75ba41"
   }
  }
 },
 "nbformat": 4,
 "nbformat_minor": 2
}
