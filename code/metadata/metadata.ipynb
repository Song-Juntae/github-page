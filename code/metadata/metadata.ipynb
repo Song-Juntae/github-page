{
 "cells": [
  {
   "cell_type": "code",
   "execution_count": 13,
   "metadata": {},
   "outputs": [
    {
     "name": "stdout",
     "output_type": "stream",
     "text": [
      "/home/sjt/space/github-page/code/metadata\n"
     ]
    }
   ],
   "source": [
    "!pwd"
   ]
  },
  {
   "cell_type": "code",
   "execution_count": 16,
   "metadata": {},
   "outputs": [],
   "source": [
    "import os\n",
    "import pandas as pd"
   ]
  },
  {
   "cell_type": "code",
   "execution_count": 5,
   "metadata": {},
   "outputs": [],
   "source": [
    "dir_path = \"/home/sjt/space/tmp/projects/.data/books\"\n",
    "file_list = list()\n",
    "for (root, directories, files) in os.walk(dir_path):\n",
    "    for file in files:\n",
    "        if '.txt' in file:\n",
    "            file_path = os.path.join(root, file)\n",
    "            file_list.append(file_path)"
   ]
  },
  {
   "cell_type": "code",
   "execution_count": 6,
   "metadata": {},
   "outputs": [
    {
     "data": {
      "text/plain": [
       "['/home/sjt/space/tmp/projects/.data/books/생명과학.식물과학의 이해/식물과학의 이해.txt',\n",
       " '/home/sjt/space/tmp/projects/.data/books/생명과학.유전체 데이터 분석 2/유전체 데이터 분석 2.book.txt',\n",
       " '/home/sjt/space/tmp/projects/.data/books/언어.언어와 언어학/언어와 언어학.book.txt',\n",
       " '/home/sjt/space/tmp/projects/.data/books/생명과학.유전체 데이터 분석 1/유전체 데이터 분석 1.book.txt',\n",
       " '/home/sjt/space/tmp/projects/.data/books/정보통신.쉽게 배우는 자료구조 with 파이썬/쉽게 배우는 자료구조 with 파이썬.book.txt',\n",
       " '/home/sjt/space/tmp/projects/.data/books/수학.데이터 과학을 위한 통계/데이터 과학을 위한 통계.book.txt',\n",
       " '/home/sjt/space/tmp/projects/.data/books/정보통신.데이터베이스 for Beginner/데이터베이스 for Beginner.book.txt',\n",
       " '/home/sjt/space/tmp/projects/.data/books/정보통신.쉽게 배우는 운영체제/쉽게 배우는 운영체제.book.txt',\n",
       " '/home/sjt/space/tmp/projects/.data/books/생명과학.캠벨 생명과학/캠벨 생명과학.book.txt',\n",
       " '/home/sjt/space/tmp/projects/.data/books/정보통신.처음 배우는 데이터 과학/처음 배우는 데이터 과학.book.txt',\n",
       " '/home/sjt/space/tmp/projects/.data/books/생명과학.파이썬을 활용한 생명정보학/파이썬을 활용한 생명정보학.book.txt',\n",
       " '/home/sjt/space/tmp/projects/.data/books/정보통신.유닉스 이론과 실습/유닉스 이론과 실습.book.txt',\n",
       " '/home/sjt/space/tmp/projects/.data/books/수학.파이썬을 활용한 베이지안 통계/파이썬을 활용한 베이지안 통계.book.txt',\n",
       " '/home/sjt/space/tmp/projects/.data/books/생명과학.생명정보학 알고리즘 파이썬으로 구현하는 생명정보학 알고리즘/생명정보학 알고리즘 파이썬으로 구현하는 생명정보학 알고리즘.book.txt',\n",
       " '/home/sjt/space/tmp/projects/.data/books/수학.컴퓨팅 사고력을 키우는 이산수학/컴퓨팅 사고력을 키우는 이산수학.book.txt',\n",
       " '/home/sjt/space/tmp/projects/.data/books/생명과학.생물정보학 알고리듬/생물정보학 알고리듬.book.txt',\n",
       " '/home/sjt/space/tmp/projects/.data/books/경제경영.파이썬을 이용한 비트코인 자동매매/파이썬을 이용한 비트코인 자동매매.book.txt',\n",
       " '/home/sjt/space/tmp/projects/.data/books/정보통신.데이터 과학을 위한 파이썬 머신러닝/데이터 과학을 위한 파이썬 머신러닝.book.txt',\n",
       " '/home/sjt/space/tmp/projects/.data/books/생명과학.진화적 분석/진화적 분석.book.txt',\n",
       " '/home/sjt/space/tmp/projects/.data/books/생명과학.식물 유전자, 유전체 그리고 유전학/식물 유전자, 유전체 그리고 유전학.txt',\n",
       " '/home/sjt/space/tmp/projects/.data/books/정보통신.데이터 과학을 위한 파이썬 프로그래밍/데이터 과학을 위한 파이썬 프로그래밍.book.txt',\n",
       " '/home/sjt/space/tmp/projects/.data/books/정보통신.데이터베이스 개론/데이터베이스 개론.book.txt',\n",
       " '/home/sjt/space/tmp/projects/.data/books/경제경영.파이썬 증권 데이터 분석/파이썬 증권 데이터 분석.book.txt',\n",
       " '/home/sjt/space/tmp/projects/.data/books/물리학.대학 물리학/대학 물리학.book.txt',\n",
       " '/home/sjt/space/tmp/projects/.data/books/생명과학.식물학/식물학.book.txt',\n",
       " '/home/sjt/space/tmp/projects/.data/books/정보통신.난생처음 R 코딩 & 데이터 분석/난생처음 R 코딩 & 데이터 분석.book.txt',\n",
       " '/home/sjt/space/tmp/projects/.data/books/정보통신.모두를 위한 R 데이터 분석 입문/모두를 위한 R 데이터 분석 입문.book.txt']"
      ]
     },
     "execution_count": 6,
     "metadata": {},
     "output_type": "execute_result"
    }
   ],
   "source": [
    "file_list"
   ]
  },
  {
   "cell_type": "code",
   "execution_count": 7,
   "metadata": {},
   "outputs": [
    {
     "data": {
      "text/plain": [
       "'comment\\n    생명과학, 식물\\nisbn\\n    978-89-449-8469-3\\ntitle\\n    식물과학의 이해\\ntable of contents\\n    part 0\\n        여러 종류의 식물들: 그 다양성과 생활상\\n            식물학의 언어와 과학의 엄밀성\\n            종자식물의 다양성\\n                나자식물\\n                피자식물\\n                    분류학 DNA를 조사하다\\n                    단자엽식물\\n                    잘못 알고 있었던 쌍자엽식물\\n                    진정쌍자엽식물\\n        광합성과 1차 대사\\n            대사란?\\n            식물의 대사와 인간\\n            광합성과 당대사\\n                광합성의 전자전달계: NADPH와 ATP의 생산\\n                    빛에너지의 흡수\\n                    전자전달계를 통한 빛에너지의 화학에너지로의 변환\\n                탄소고정반응: 캘빈벤슨회로\\n                광호흡\\n                다양한 탄소고정반응\\n                호흡\\n                산화적 펜토스 인산회로\\n                다이나믹한 당대사와 기관간 수송 저장\\n            질소동화\\n            황의 동화\\n            아미노산 합성\\n            지질 합성\\n            1차 대사의 제어\\n        성장 발생: 식물의 체제와 배발생\\n            식물의 체제\\n            식물의 배발생\\n            배발생을 제어하는 기작\\n                배의 정단-기부축의 확립에 관여하는 인자\\n                배의 방사축의 확립\\n                배발생과정에서 중요한 작용을 하는 식물호르몬: 옥신\\n                배의 정단영역에서의 슈트정단분열조직의 형성과 자엽의 형성\\n                배의 기부영역에서의 유근의 형성\\n        성장 발생: 휴면 발아와 신장\\n            종자의 휴면\\n            광발아종자와 빛을 감지하기 위한 광수용체단백질\\n            빛에 의한 발아의 조절 기작\\n            종자의 발아\\n            발아한 후의 두 가지 성장양식\\n            식물 호르몬\\n            발아의 신장성장과 굴성\\n        성장 발생: 뿌리\\n            뿌리의 다양성과 구조\\n                여러 가지 뿌리\\n                뿌리의 구조와 작용(기능)\\n                근단분열조직과 줄기세포\\n            뿌리의 방사패턴의 형성\\n            측근의 발생과 옥신\\n            뿌리의 중력굴성반응\\n        성장 발생: 슈트\\n            슈트와 뿌리의 차이\\n            슈트정단과 잎과 줄기\\n            잎차례\\n            잎차례의 구조(1): 옥신의 흐름\\n            엽원기의 발생\\n        성장 발생: 꽃눈형성\\n            식물은 계절을 미리 예측한다\\n            일장에 의한 개화(꽃눈형성개시)의 시기 조절\\n            온도에 의한 개화시기의 조절\\n            개화를 촉진하는 물질 플로리겐\\n            꽃을 구성하는 기관과 꽃의 모양 만들기 기작\\n            꽃눈을 만들기 위한 유전자\\n            꽃의 모양 만들기의 수수께끼\\n        성장 발생: 수분과 수정\\nabstract'"
      ]
     },
     "execution_count": 7,
     "metadata": {},
     "output_type": "execute_result"
    }
   ],
   "source": [
    "with open(file_list[0], 'r') as f:\n",
    "    data = f.read()\n",
    "data"
   ]
  },
  {
   "cell_type": "code",
   "execution_count": 12,
   "metadata": {},
   "outputs": [
    {
     "data": {
      "text/plain": [
       "('978-89-449-8469-3', '식물과학의 이해')"
      ]
     },
     "execution_count": 12,
     "metadata": {},
     "output_type": "execute_result"
    }
   ],
   "source": [
    "data.split('\\n')[3].strip(), "
   ]
  },
  {
   "cell_type": "code",
   "execution_count": 22,
   "metadata": {},
   "outputs": [],
   "source": [
    "with open('books.tsv', 'w') as f:\n",
    "    f.write('isbn\\t제목\\n')\n",
    "    for i in file_list:\n",
    "        with open(i, 'r') as f_:\n",
    "            data = f_.read()\n",
    "            isbn = data.split('\\n')[3].strip()\n",
    "            title = data.split('\\n')[5].strip()\n",
    "            f.write(f'{isbn}\\t{title}\\n')"
   ]
  },
  {
   "cell_type": "code",
   "execution_count": 24,
   "metadata": {},
   "outputs": [
    {
     "data": {
      "text/html": [
       "<div>\n",
       "<style scoped>\n",
       "    .dataframe tbody tr th:only-of-type {\n",
       "        vertical-align: middle;\n",
       "    }\n",
       "\n",
       "    .dataframe tbody tr th {\n",
       "        vertical-align: top;\n",
       "    }\n",
       "\n",
       "    .dataframe thead th {\n",
       "        text-align: right;\n",
       "    }\n",
       "</style>\n",
       "<table border=\"1\" class=\"dataframe\">\n",
       "  <thead>\n",
       "    <tr style=\"text-align: right;\">\n",
       "      <th></th>\n",
       "      <th>isbn</th>\n",
       "      <th>제목</th>\n",
       "    </tr>\n",
       "  </thead>\n",
       "  <tbody>\n",
       "    <tr>\n",
       "      <th>0</th>\n",
       "      <td>978-89-449-8469-3</td>\n",
       "      <td>식물과학의 이해</td>\n",
       "    </tr>\n",
       "    <tr>\n",
       "      <th>1</th>\n",
       "      <td>979-11-5943-187-6</td>\n",
       "      <td>유전체 데이터 분석 2</td>\n",
       "    </tr>\n",
       "    <tr>\n",
       "      <th>2</th>\n",
       "      <td>979-11-6226-354-9</td>\n",
       "      <td>언어와 언어학</td>\n",
       "    </tr>\n",
       "    <tr>\n",
       "      <th>3</th>\n",
       "      <td>979-11-85305-94-3</td>\n",
       "      <td>유전체데이터분석1</td>\n",
       "    </tr>\n",
       "    <tr>\n",
       "      <th>4</th>\n",
       "      <td>979-11-5664-575-9</td>\n",
       "      <td>쉽게 배우는 자료구조 with 파이썬</td>\n",
       "    </tr>\n",
       "    <tr>\n",
       "      <th>5</th>\n",
       "      <td>979-11-6224-418-0</td>\n",
       "      <td>데이터 과학을 위한 통계</td>\n",
       "    </tr>\n",
       "    <tr>\n",
       "      <th>6</th>\n",
       "      <td>979-11-5664-435-4</td>\n",
       "      <td>데이터베이스 for Beginner</td>\n",
       "    </tr>\n",
       "    <tr>\n",
       "      <th>7</th>\n",
       "      <td>979-11-5664-407-1</td>\n",
       "      <td>쉽게 배우는 운영체제</td>\n",
       "    </tr>\n",
       "    <tr>\n",
       "      <th>8</th>\n",
       "      <td>978-89-6824-090-4</td>\n",
       "      <td>캠벨 생명과학 11판</td>\n",
       "    </tr>\n",
       "    <tr>\n",
       "      <th>9</th>\n",
       "      <td>979-11-6224-047-2</td>\n",
       "      <td>처음 배우는 데이터 과학</td>\n",
       "    </tr>\n",
       "    <tr>\n",
       "      <th>10</th>\n",
       "      <td>979-11-6175-384-3</td>\n",
       "      <td>파이썬을 활용한 생명정보학</td>\n",
       "    </tr>\n",
       "    <tr>\n",
       "      <th>11</th>\n",
       "      <td>NaN</td>\n",
       "      <td>NaN</td>\n",
       "    </tr>\n",
       "    <tr>\n",
       "      <th>12</th>\n",
       "      <td>979-11-6224-573-6</td>\n",
       "      <td>파이썬을 활용한 베이지안 통계</td>\n",
       "    </tr>\n",
       "    <tr>\n",
       "      <th>13</th>\n",
       "      <td>979-11-6175-476-5</td>\n",
       "      <td>생명정보학 알고리즘 파이썬으로 구현하는 생명정보학 알고리즘</td>\n",
       "    </tr>\n",
       "    <tr>\n",
       "      <th>14</th>\n",
       "      <td>979-11-5664-590-0</td>\n",
       "      <td>컴퓨팅 사고력을 키우는 이산수학</td>\n",
       "    </tr>\n",
       "    <tr>\n",
       "      <th>15</th>\n",
       "      <td>979-11-6175-603-5</td>\n",
       "      <td>생물정보학 알고리듬</td>\n",
       "    </tr>\n",
       "    <tr>\n",
       "      <th>16</th>\n",
       "      <td>979-11-9660288-1-1</td>\n",
       "      <td>파이썬을 이용한 비트코인 자동매매</td>\n",
       "    </tr>\n",
       "    <tr>\n",
       "      <th>17</th>\n",
       "      <td>979-11-5664-585-6</td>\n",
       "      <td>데이터 과학을 위한 파이썬 머신러닝</td>\n",
       "    </tr>\n",
       "    <tr>\n",
       "      <th>18</th>\n",
       "      <td>978-89-6824-051-5</td>\n",
       "      <td>진화적 분석</td>\n",
       "    </tr>\n",
       "    <tr>\n",
       "      <th>19</th>\n",
       "      <td>978-89-5881-258-6</td>\n",
       "      <td>식물 유전자, 유전체 그리고 유전학</td>\n",
       "    </tr>\n",
       "    <tr>\n",
       "      <th>20</th>\n",
       "      <td>979-11-5664-436-1</td>\n",
       "      <td>데이터 과학을 위한 파이썬 프로그래밍</td>\n",
       "    </tr>\n",
       "    <tr>\n",
       "      <th>21</th>\n",
       "      <td>979-11-5664-431-6</td>\n",
       "      <td>데이터베이스 개론</td>\n",
       "    </tr>\n",
       "    <tr>\n",
       "      <th>22</th>\n",
       "      <td>979-11-6224-320-6</td>\n",
       "      <td>파이썬 증권 데이터 분석</td>\n",
       "    </tr>\n",
       "    <tr>\n",
       "      <th>23</th>\n",
       "      <td>979-11-5971-186-2</td>\n",
       "      <td>대학물리학 10판</td>\n",
       "    </tr>\n",
       "    <tr>\n",
       "      <th>24</th>\n",
       "      <td>978-89-5881-284-5</td>\n",
       "      <td>식물학</td>\n",
       "    </tr>\n",
       "    <tr>\n",
       "      <th>25</th>\n",
       "      <td>979-11-5664-513-9</td>\n",
       "      <td>난생처음 R 코딩 &amp; 데이터 분석</td>\n",
       "    </tr>\n",
       "    <tr>\n",
       "      <th>26</th>\n",
       "      <td>979-11-5664-459-0</td>\n",
       "      <td>모두를 위한 R 데이터 분석 입문</td>\n",
       "    </tr>\n",
       "  </tbody>\n",
       "</table>\n",
       "</div>"
      ],
      "text/plain": [
       "                  isbn                                제목\n",
       "0    978-89-449-8469-3                          식물과학의 이해\n",
       "1    979-11-5943-187-6                      유전체 데이터 분석 2\n",
       "2    979-11-6226-354-9                           언어와 언어학\n",
       "3    979-11-85305-94-3                         유전체데이터분석1\n",
       "4    979-11-5664-575-9              쉽게 배우는 자료구조 with 파이썬\n",
       "5    979-11-6224-418-0                     데이터 과학을 위한 통계\n",
       "6    979-11-5664-435-4               데이터베이스 for Beginner\n",
       "7    979-11-5664-407-1                       쉽게 배우는 운영체제\n",
       "8    978-89-6824-090-4                       캠벨 생명과학 11판\n",
       "9    979-11-6224-047-2                     처음 배우는 데이터 과학\n",
       "10   979-11-6175-384-3                    파이썬을 활용한 생명정보학\n",
       "11                 NaN                               NaN\n",
       "12   979-11-6224-573-6                  파이썬을 활용한 베이지안 통계\n",
       "13   979-11-6175-476-5  생명정보학 알고리즘 파이썬으로 구현하는 생명정보학 알고리즘\n",
       "14   979-11-5664-590-0                 컴퓨팅 사고력을 키우는 이산수학\n",
       "15   979-11-6175-603-5                        생물정보학 알고리듬\n",
       "16  979-11-9660288-1-1                파이썬을 이용한 비트코인 자동매매\n",
       "17   979-11-5664-585-6               데이터 과학을 위한 파이썬 머신러닝\n",
       "18   978-89-6824-051-5                            진화적 분석\n",
       "19   978-89-5881-258-6               식물 유전자, 유전체 그리고 유전학\n",
       "20   979-11-5664-436-1              데이터 과학을 위한 파이썬 프로그래밍\n",
       "21   979-11-5664-431-6                         데이터베이스 개론\n",
       "22   979-11-6224-320-6                     파이썬 증권 데이터 분석\n",
       "23   979-11-5971-186-2                         대학물리학 10판\n",
       "24   978-89-5881-284-5                               식물학\n",
       "25   979-11-5664-513-9                난생처음 R 코딩 & 데이터 분석\n",
       "26   979-11-5664-459-0                모두를 위한 R 데이터 분석 입문"
      ]
     },
     "execution_count": 24,
     "metadata": {},
     "output_type": "execute_result"
    }
   ],
   "source": [
    "pd.read_csv('/home/sjt/space/github-page/code/metadata/books.tsv',sep='\\t')"
   ]
  },
  {
   "cell_type": "code",
   "execution_count": null,
   "metadata": {},
   "outputs": [],
   "source": []
  }
 ],
 "metadata": {
  "kernelspec": {
   "display_name": "sjt",
   "language": "python",
   "name": "python3"
  },
  "language_info": {
   "codemirror_mode": {
    "name": "ipython",
    "version": 3
   },
   "file_extension": ".py",
   "mimetype": "text/x-python",
   "name": "python",
   "nbconvert_exporter": "python",
   "pygments_lexer": "ipython3",
   "version": "3.11.0"
  },
  "orig_nbformat": 4
 },
 "nbformat": 4,
 "nbformat_minor": 2
}
